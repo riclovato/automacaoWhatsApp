{
 "cells": [
  {
   "cell_type": "code",
   "execution_count": null,
   "metadata": {},
   "outputs": [],
   "source": [
    "#Automação de encaminhamento de mensagem no whatsapp\n",
    "#Usando a funcionalidade nativa do whatsapp  de encaminhar mensagem\n",
    "#Encaminhar de 5 em 5 mensagens"
   ]
  },
  {
   "cell_type": "code",
   "execution_count": 5,
   "metadata": {},
   "outputs": [],
   "source": [
    "from selenium import webdriver\n",
    "from selenium.webdriver.chrome.service import Service\n",
    "from webdriver_manager.chrome import ChromeDriverManager\n",
    "from time import sleep\n",
    "\n",
    "service  = Service(ChromeDriverManager().install())\n",
    "nav = webdriver.Chrome(service=service)\n",
    "nav.get(\"https://web.whatsapp.com\")\n",
    "sleep(120)"
   ]
  },
  {
   "cell_type": "code",
   "execution_count": 48,
   "metadata": {},
   "outputs": [
    {
     "ename": "NoSuchElementException",
     "evalue": "Message: no such element: Unable to locate element: {\"method\":\"css selector\",\"selector\":\"._3u9t-\"}\n  (Session info: chrome=116.0.5845.141); For documentation on this error, please visit: https://www.selenium.dev/documentation/webdriver/troubleshooting/errors#no-such-element-exception\nStacktrace:\n\tGetHandleVerifier [0x00CE37C3+48947]\n\t(No symbol) [0x00C78551]\n\t(No symbol) [0x00B7C92D]\n\t(No symbol) [0x00BA9E38]\n\t(No symbol) [0x00BA9EFB]\n\t(No symbol) [0x00BA2F61]\n\t(No symbol) [0x00BC50D4]\n\t(No symbol) [0x00BA2EB6]\n\t(No symbol) [0x00BC53E4]\n\t(No symbol) [0x00BD75DA]\n\t(No symbol) [0x00BC4E86]\n\t(No symbol) [0x00BA16C7]\n\t(No symbol) [0x00BA284D]\n\tGetHandleVerifier [0x00F2FDF9+2458985]\n\tGetHandleVerifier [0x00F7744F+2751423]\n\tGetHandleVerifier [0x00F71361+2726609]\n\tGetHandleVerifier [0x00D60680+560624]\n\t(No symbol) [0x00C8238C]\n\t(No symbol) [0x00C7E268]\n\t(No symbol) [0x00C7E392]\n\t(No symbol) [0x00C710B7]\n\tBaseThreadInitThunk [0x765500C9+25]\n\tRtlGetAppContainerNamedObjectPath [0x773C7B1E+286]\n\tRtlGetAppContainerNamedObjectPath [0x773C7AEE+238]\n",
     "output_type": "error",
     "traceback": [
      "\u001b[1;31m---------------------------------------------------------------------------\u001b[0m",
      "\u001b[1;31mNoSuchElementException\u001b[0m                    Traceback (most recent call last)",
      "Cell \u001b[1;32mIn[48], line 49\u001b[0m\n\u001b[0;32m     47\u001b[0m \u001b[39m#selecionar a mensagem para enviar\u001b[39;00m\n\u001b[0;32m     48\u001b[0m ActionChains(nav)\u001b[39m.\u001b[39mmove_to_element(elemento)\u001b[39m.\u001b[39mperform()\n\u001b[1;32m---> 49\u001b[0m elemento\u001b[39m.\u001b[39;49mfind_element(\u001b[39m'\u001b[39;49m\u001b[39mclass name\u001b[39;49m\u001b[39m'\u001b[39;49m, \u001b[39m'\u001b[39;49m\u001b[39m_3u9t-\u001b[39;49m\u001b[39m'\u001b[39;49m)\u001b[39m.\u001b[39mclick()\n\u001b[0;32m     50\u001b[0m elemento\u001b[39m.\u001b[39mfind_element(\u001b[39m'\u001b[39m\u001b[39mxpath\u001b[39m\u001b[39m'\u001b[39m, \u001b[39m'\u001b[39m\u001b[39m//*[@id=\u001b[39m\u001b[39m\"\u001b[39m\u001b[39mapp\u001b[39m\u001b[39m\"\u001b[39m\u001b[39m]/div/span[4]/div/ul/div/li[4]/div\u001b[39m\u001b[39m'\u001b[39m)\u001b[39m.\u001b[39mclick()\n\u001b[0;32m     51\u001b[0m elemento\u001b[39m.\u001b[39mfind_element(\u001b[39m'\u001b[39m\u001b[39mxpath\u001b[39m\u001b[39m'\u001b[39m,\u001b[39m'\u001b[39m\u001b[39m//*[@id=\u001b[39m\u001b[39m\"\u001b[39m\u001b[39mmain\u001b[39m\u001b[39m\"\u001b[39m\u001b[39m]/span[2]/div/button[4]/span\u001b[39m\u001b[39m'\u001b[39m)\u001b[39m.\u001b[39mclick()\n",
      "File \u001b[1;32mc:\\temp\\Python\\automacaoWhatsApp\\venv\\lib\\site-packages\\selenium\\webdriver\\remote\\webelement.py:416\u001b[0m, in \u001b[0;36mWebElement.find_element\u001b[1;34m(self, by, value)\u001b[0m\n\u001b[0;32m    413\u001b[0m     by \u001b[39m=\u001b[39m By\u001b[39m.\u001b[39mCSS_SELECTOR\n\u001b[0;32m    414\u001b[0m     value \u001b[39m=\u001b[39m \u001b[39mf\u001b[39m\u001b[39m'\u001b[39m\u001b[39m[name=\u001b[39m\u001b[39m\"\u001b[39m\u001b[39m{\u001b[39;00mvalue\u001b[39m}\u001b[39;00m\u001b[39m\"\u001b[39m\u001b[39m]\u001b[39m\u001b[39m'\u001b[39m\n\u001b[1;32m--> 416\u001b[0m \u001b[39mreturn\u001b[39;00m \u001b[39mself\u001b[39;49m\u001b[39m.\u001b[39;49m_execute(Command\u001b[39m.\u001b[39;49mFIND_CHILD_ELEMENT, {\u001b[39m\"\u001b[39;49m\u001b[39musing\u001b[39;49m\u001b[39m\"\u001b[39;49m: by, \u001b[39m\"\u001b[39;49m\u001b[39mvalue\u001b[39;49m\u001b[39m\"\u001b[39;49m: value})[\u001b[39m\"\u001b[39m\u001b[39mvalue\u001b[39m\u001b[39m\"\u001b[39m]\n",
      "File \u001b[1;32mc:\\temp\\Python\\automacaoWhatsApp\\venv\\lib\\site-packages\\selenium\\webdriver\\remote\\webelement.py:394\u001b[0m, in \u001b[0;36mWebElement._execute\u001b[1;34m(self, command, params)\u001b[0m\n\u001b[0;32m    392\u001b[0m     params \u001b[39m=\u001b[39m {}\n\u001b[0;32m    393\u001b[0m params[\u001b[39m\"\u001b[39m\u001b[39mid\u001b[39m\u001b[39m\"\u001b[39m] \u001b[39m=\u001b[39m \u001b[39mself\u001b[39m\u001b[39m.\u001b[39m_id\n\u001b[1;32m--> 394\u001b[0m \u001b[39mreturn\u001b[39;00m \u001b[39mself\u001b[39;49m\u001b[39m.\u001b[39;49m_parent\u001b[39m.\u001b[39;49mexecute(command, params)\n",
      "File \u001b[1;32mc:\\temp\\Python\\automacaoWhatsApp\\venv\\lib\\site-packages\\selenium\\webdriver\\remote\\webdriver.py:344\u001b[0m, in \u001b[0;36mWebDriver.execute\u001b[1;34m(self, driver_command, params)\u001b[0m\n\u001b[0;32m    342\u001b[0m response \u001b[39m=\u001b[39m \u001b[39mself\u001b[39m\u001b[39m.\u001b[39mcommand_executor\u001b[39m.\u001b[39mexecute(driver_command, params)\n\u001b[0;32m    343\u001b[0m \u001b[39mif\u001b[39;00m response:\n\u001b[1;32m--> 344\u001b[0m     \u001b[39mself\u001b[39;49m\u001b[39m.\u001b[39;49merror_handler\u001b[39m.\u001b[39;49mcheck_response(response)\n\u001b[0;32m    345\u001b[0m     response[\u001b[39m\"\u001b[39m\u001b[39mvalue\u001b[39m\u001b[39m\"\u001b[39m] \u001b[39m=\u001b[39m \u001b[39mself\u001b[39m\u001b[39m.\u001b[39m_unwrap_value(response\u001b[39m.\u001b[39mget(\u001b[39m\"\u001b[39m\u001b[39mvalue\u001b[39m\u001b[39m\"\u001b[39m, \u001b[39mNone\u001b[39;00m))\n\u001b[0;32m    346\u001b[0m     \u001b[39mreturn\u001b[39;00m response\n",
      "File \u001b[1;32mc:\\temp\\Python\\automacaoWhatsApp\\venv\\lib\\site-packages\\selenium\\webdriver\\remote\\errorhandler.py:229\u001b[0m, in \u001b[0;36mErrorHandler.check_response\u001b[1;34m(self, response)\u001b[0m\n\u001b[0;32m    227\u001b[0m         alert_text \u001b[39m=\u001b[39m value[\u001b[39m\"\u001b[39m\u001b[39malert\u001b[39m\u001b[39m\"\u001b[39m]\u001b[39m.\u001b[39mget(\u001b[39m\"\u001b[39m\u001b[39mtext\u001b[39m\u001b[39m\"\u001b[39m)\n\u001b[0;32m    228\u001b[0m     \u001b[39mraise\u001b[39;00m exception_class(message, screen, stacktrace, alert_text)  \u001b[39m# type: ignore[call-arg]  # mypy is not smart enough here\u001b[39;00m\n\u001b[1;32m--> 229\u001b[0m \u001b[39mraise\u001b[39;00m exception_class(message, screen, stacktrace)\n",
      "\u001b[1;31mNoSuchElementException\u001b[0m: Message: no such element: Unable to locate element: {\"method\":\"css selector\",\"selector\":\"._3u9t-\"}\n  (Session info: chrome=116.0.5845.141); For documentation on this error, please visit: https://www.selenium.dev/documentation/webdriver/troubleshooting/errors#no-such-element-exception\nStacktrace:\n\tGetHandleVerifier [0x00CE37C3+48947]\n\t(No symbol) [0x00C78551]\n\t(No symbol) [0x00B7C92D]\n\t(No symbol) [0x00BA9E38]\n\t(No symbol) [0x00BA9EFB]\n\t(No symbol) [0x00BA2F61]\n\t(No symbol) [0x00BC50D4]\n\t(No symbol) [0x00BA2EB6]\n\t(No symbol) [0x00BC53E4]\n\t(No symbol) [0x00BD75DA]\n\t(No symbol) [0x00BC4E86]\n\t(No symbol) [0x00BA16C7]\n\t(No symbol) [0x00BA284D]\n\tGetHandleVerifier [0x00F2FDF9+2458985]\n\tGetHandleVerifier [0x00F7744F+2751423]\n\tGetHandleVerifier [0x00F71361+2726609]\n\tGetHandleVerifier [0x00D60680+560624]\n\t(No symbol) [0x00C8238C]\n\t(No symbol) [0x00C7E268]\n\t(No symbol) [0x00C7E392]\n\t(No symbol) [0x00C710B7]\n\tBaseThreadInitThunk [0x765500C9+25]\n\tRtlGetAppContainerNamedObjectPath [0x773C7B1E+286]\n\tRtlGetAppContainerNamedObjectPath [0x773C7AEE+238]\n"
     ]
    }
   ],
   "source": [
    "from selenium.webdriver.common.keys import Keys\n",
    "import pyperclip\n",
    "import math\n",
    "mensagem  = \"\"\"\n",
    "Mensagem de teste!\n",
    "\"\"\"\n",
    "lista_contatos = [\"eu\", \"teste\"]\n",
    "\n",
    "#enviar a mensagem para o meu número\n",
    "\n",
    "#clicar na lupa\n",
    "nav.find_element('xpath', '//*[@id=\"side\"]/div[1]/div/div/button/div[2]/span').click()\n",
    "nav.find_element('xpath', '//*[@id=\"side\"]/div[1]/div/div/div[2]/div/div[1]/p').send_keys(\"Eu\")\n",
    "nav.find_element('xpath', '//*[@id=\"side\"]/div[1]/div/div/div[2]/div/div[1]/p').send_keys(Keys.ENTER)\n",
    "sleep(1)\n",
    "#Escrever a mensagem para nós mesmos\n",
    "pyperclip.copy(mensagem)\n",
    "nav.find_element('xpath','//*[@id=\"main\"]/footer/div[1]/div/span[2]/div/div[2]/div[1]/div/div[1]/p').send_keys(Keys.CONTROL + 'v')\n",
    "nav.find_element('xpath','//*[@id=\"main\"]/footer/div[1]/div/span[2]/div/div[2]/div[1]/div/div[1]/p').send_keys(Keys.ENTER)\n",
    "sleep(2)\n",
    "\n"
   ]
  },
  {
   "cell_type": "code",
   "execution_count": 52,
   "metadata": {},
   "outputs": [
    {
     "ename": "NoSuchElementException",
     "evalue": "Message: no such element: Unable to locate element: {\"method\":\"xpath\",\"selector\":\"//*[@id=\"app\"]/div/span[2]/div/div/div/div/div/div/div/span/div/div/div/span\"}\n  (Session info: chrome=116.0.5845.141); For documentation on this error, please visit: https://www.selenium.dev/documentation/webdriver/troubleshooting/errors#no-such-element-exception\nStacktrace:\n\tGetHandleVerifier [0x00CE37C3+48947]\n\t(No symbol) [0x00C78551]\n\t(No symbol) [0x00B7C92D]\n\t(No symbol) [0x00BA9E38]\n\t(No symbol) [0x00BA9EFB]\n\t(No symbol) [0x00BA2F61]\n\t(No symbol) [0x00BC50D4]\n\t(No symbol) [0x00BA2EB6]\n\t(No symbol) [0x00BC53E4]\n\t(No symbol) [0x00BD75DA]\n\t(No symbol) [0x00BC4E86]\n\t(No symbol) [0x00BA16C7]\n\t(No symbol) [0x00BA284D]\n\tGetHandleVerifier [0x00F2FDF9+2458985]\n\tGetHandleVerifier [0x00F7744F+2751423]\n\tGetHandleVerifier [0x00F71361+2726609]\n\tGetHandleVerifier [0x00D60680+560624]\n\t(No symbol) [0x00C8238C]\n\t(No symbol) [0x00C7E268]\n\t(No symbol) [0x00C7E392]\n\t(No symbol) [0x00C710B7]\n\tBaseThreadInitThunk [0x765500C9+25]\n\tRtlGetAppContainerNamedObjectPath [0x773C7B1E+286]\n\tRtlGetAppContainerNamedObjectPath [0x773C7AEE+238]\n",
     "output_type": "error",
     "traceback": [
      "\u001b[1;31m---------------------------------------------------------------------------\u001b[0m",
      "\u001b[1;31mNoSuchElementException\u001b[0m                    Traceback (most recent call last)",
      "Cell \u001b[1;32mIn[52], line 42\u001b[0m\n\u001b[0;32m     40\u001b[0m     elemento\u001b[39m.\u001b[39mfind_element(\u001b[39m'\u001b[39m\u001b[39mxpath\u001b[39m\u001b[39m'\u001b[39m,\u001b[39m'\u001b[39m\u001b[39m//*[@id=\u001b[39m\u001b[39m\"\u001b[39m\u001b[39mapp\u001b[39m\u001b[39m\"\u001b[39m\u001b[39m]/div/span[2]/div/div/div/div/div/div/div/div[1]/div/div/div[2]/div/div[1]/p\u001b[39m\u001b[39m'\u001b[39m)\u001b[39m.\u001b[39msend_keys(Keys\u001b[39m.\u001b[39mBACKSPACE)\n\u001b[0;32m     41\u001b[0m     sleep(\u001b[39m1\u001b[39m)\n\u001b[1;32m---> 42\u001b[0m elemento\u001b[39m.\u001b[39;49mfind_element(\u001b[39m'\u001b[39;49m\u001b[39mxpath\u001b[39;49m\u001b[39m'\u001b[39;49m,\u001b[39m'\u001b[39;49m\u001b[39m//*[@id=\u001b[39;49m\u001b[39m\"\u001b[39;49m\u001b[39mapp\u001b[39;49m\u001b[39m\"\u001b[39;49m\u001b[39m]/div/span[2]/div/div/div/div/div/div/div/span/div/div/div/span\u001b[39;49m\u001b[39m'\u001b[39;49m)\u001b[39m.\u001b[39mclick()\n",
      "File \u001b[1;32mc:\\temp\\Python\\automacaoWhatsApp\\venv\\lib\\site-packages\\selenium\\webdriver\\remote\\webelement.py:416\u001b[0m, in \u001b[0;36mWebElement.find_element\u001b[1;34m(self, by, value)\u001b[0m\n\u001b[0;32m    413\u001b[0m     by \u001b[39m=\u001b[39m By\u001b[39m.\u001b[39mCSS_SELECTOR\n\u001b[0;32m    414\u001b[0m     value \u001b[39m=\u001b[39m \u001b[39mf\u001b[39m\u001b[39m'\u001b[39m\u001b[39m[name=\u001b[39m\u001b[39m\"\u001b[39m\u001b[39m{\u001b[39;00mvalue\u001b[39m}\u001b[39;00m\u001b[39m\"\u001b[39m\u001b[39m]\u001b[39m\u001b[39m'\u001b[39m\n\u001b[1;32m--> 416\u001b[0m \u001b[39mreturn\u001b[39;00m \u001b[39mself\u001b[39;49m\u001b[39m.\u001b[39;49m_execute(Command\u001b[39m.\u001b[39;49mFIND_CHILD_ELEMENT, {\u001b[39m\"\u001b[39;49m\u001b[39musing\u001b[39;49m\u001b[39m\"\u001b[39;49m: by, \u001b[39m\"\u001b[39;49m\u001b[39mvalue\u001b[39;49m\u001b[39m\"\u001b[39;49m: value})[\u001b[39m\"\u001b[39m\u001b[39mvalue\u001b[39m\u001b[39m\"\u001b[39m]\n",
      "File \u001b[1;32mc:\\temp\\Python\\automacaoWhatsApp\\venv\\lib\\site-packages\\selenium\\webdriver\\remote\\webelement.py:394\u001b[0m, in \u001b[0;36mWebElement._execute\u001b[1;34m(self, command, params)\u001b[0m\n\u001b[0;32m    392\u001b[0m     params \u001b[39m=\u001b[39m {}\n\u001b[0;32m    393\u001b[0m params[\u001b[39m\"\u001b[39m\u001b[39mid\u001b[39m\u001b[39m\"\u001b[39m] \u001b[39m=\u001b[39m \u001b[39mself\u001b[39m\u001b[39m.\u001b[39m_id\n\u001b[1;32m--> 394\u001b[0m \u001b[39mreturn\u001b[39;00m \u001b[39mself\u001b[39;49m\u001b[39m.\u001b[39;49m_parent\u001b[39m.\u001b[39;49mexecute(command, params)\n",
      "File \u001b[1;32mc:\\temp\\Python\\automacaoWhatsApp\\venv\\lib\\site-packages\\selenium\\webdriver\\remote\\webdriver.py:344\u001b[0m, in \u001b[0;36mWebDriver.execute\u001b[1;34m(self, driver_command, params)\u001b[0m\n\u001b[0;32m    342\u001b[0m response \u001b[39m=\u001b[39m \u001b[39mself\u001b[39m\u001b[39m.\u001b[39mcommand_executor\u001b[39m.\u001b[39mexecute(driver_command, params)\n\u001b[0;32m    343\u001b[0m \u001b[39mif\u001b[39;00m response:\n\u001b[1;32m--> 344\u001b[0m     \u001b[39mself\u001b[39;49m\u001b[39m.\u001b[39;49merror_handler\u001b[39m.\u001b[39;49mcheck_response(response)\n\u001b[0;32m    345\u001b[0m     response[\u001b[39m\"\u001b[39m\u001b[39mvalue\u001b[39m\u001b[39m\"\u001b[39m] \u001b[39m=\u001b[39m \u001b[39mself\u001b[39m\u001b[39m.\u001b[39m_unwrap_value(response\u001b[39m.\u001b[39mget(\u001b[39m\"\u001b[39m\u001b[39mvalue\u001b[39m\u001b[39m\"\u001b[39m, \u001b[39mNone\u001b[39;00m))\n\u001b[0;32m    346\u001b[0m     \u001b[39mreturn\u001b[39;00m response\n",
      "File \u001b[1;32mc:\\temp\\Python\\automacaoWhatsApp\\venv\\lib\\site-packages\\selenium\\webdriver\\remote\\errorhandler.py:229\u001b[0m, in \u001b[0;36mErrorHandler.check_response\u001b[1;34m(self, response)\u001b[0m\n\u001b[0;32m    227\u001b[0m         alert_text \u001b[39m=\u001b[39m value[\u001b[39m\"\u001b[39m\u001b[39malert\u001b[39m\u001b[39m\"\u001b[39m]\u001b[39m.\u001b[39mget(\u001b[39m\"\u001b[39m\u001b[39mtext\u001b[39m\u001b[39m\"\u001b[39m)\n\u001b[0;32m    228\u001b[0m     \u001b[39mraise\u001b[39;00m exception_class(message, screen, stacktrace, alert_text)  \u001b[39m# type: ignore[call-arg]  # mypy is not smart enough here\u001b[39;00m\n\u001b[1;32m--> 229\u001b[0m \u001b[39mraise\u001b[39;00m exception_class(message, screen, stacktrace)\n",
      "\u001b[1;31mNoSuchElementException\u001b[0m: Message: no such element: Unable to locate element: {\"method\":\"xpath\",\"selector\":\"//*[@id=\"app\"]/div/span[2]/div/div/div/div/div/div/div/span/div/div/div/span\"}\n  (Session info: chrome=116.0.5845.141); For documentation on this error, please visit: https://www.selenium.dev/documentation/webdriver/troubleshooting/errors#no-such-element-exception\nStacktrace:\n\tGetHandleVerifier [0x00CE37C3+48947]\n\t(No symbol) [0x00C78551]\n\t(No symbol) [0x00B7C92D]\n\t(No symbol) [0x00BA9E38]\n\t(No symbol) [0x00BA9EFB]\n\t(No symbol) [0x00BA2F61]\n\t(No symbol) [0x00BC50D4]\n\t(No symbol) [0x00BA2EB6]\n\t(No symbol) [0x00BC53E4]\n\t(No symbol) [0x00BD75DA]\n\t(No symbol) [0x00BC4E86]\n\t(No symbol) [0x00BA16C7]\n\t(No symbol) [0x00BA284D]\n\tGetHandleVerifier [0x00F2FDF9+2458985]\n\tGetHandleVerifier [0x00F7744F+2751423]\n\tGetHandleVerifier [0x00F71361+2726609]\n\tGetHandleVerifier [0x00D60680+560624]\n\t(No symbol) [0x00C8238C]\n\t(No symbol) [0x00C7E268]\n\t(No symbol) [0x00C7E392]\n\t(No symbol) [0x00C710B7]\n\tBaseThreadInitThunk [0x765500C9+25]\n\tRtlGetAppContainerNamedObjectPath [0x773C7B1E+286]\n\tRtlGetAppContainerNamedObjectPath [0x773C7AEE+238]\n"
     ]
    }
   ],
   "source": [
    "\n",
    "#encaminhar a mensagem para a lista de contatos\n",
    "from selenium.webdriver.common.action_chains import ActionChains\n",
    "\n",
    "quantidade_contatos = len(lista_contatos)\n",
    "\n",
    "if quantidade_contatos % 5 == 0:\n",
    "    quantidade_blocos = quantidade_contatos / 5 \n",
    "else:\n",
    "    quantidade_blocos = math.ceil(quantidade_contatos / 5) + 1\n",
    "\n",
    "for i in range(quantidade_blocos):\n",
    "    # rodar o codigo de encaminhar\n",
    "    i_inicial = i * 5\n",
    "    i_final = (i + 1) * 5\n",
    "    lista_enviar = lista_contatos[i_inicial:i_final]\n",
    "\n",
    "    \n",
    "    lista_elementos =nav.find_elements('class name', '_1uv-a')\n",
    "    for item in lista_elementos:\n",
    "        mensagem = mensagem.replace(\"\\n\",\"\")\n",
    "        texto = item.text.replace(\"\\n\",\"\")\n",
    "        if mensagem in texto:\n",
    "            elemento = item\n",
    "            \n",
    "\n",
    "\n",
    "    #selecionar a mensagem para enviar\n",
    "    ActionChains(nav).move_to_element(elemento).perform()\n",
    "    elemento.find_element('class name', '_3u9t-').click()\n",
    "    elemento.find_element('xpath', '//*[@id=\"app\"]/div/span[4]/div/ul/div/li[4]/div').click()\n",
    "    elemento.find_element('xpath','//*[@id=\"main\"]/span[2]/div/button[4]/span').click()\n",
    "    sleep(0.5)\n",
    "    \n",
    "    for nome in lista_enviar:\n",
    "        #escrever o nome do contato\n",
    "        elemento.find_element('xpath','//*[@id=\"app\"]/div/span[2]/div/div/div/div/div/div/div/div[1]/div/div/div[2]/div/div[1]/p').send_keys(nome)\n",
    "        #dar enter\n",
    "        elemento.find_element('xpath','//*[@id=\"app\"]/div/span[2]/div/div/div/div/div/div/div/div[1]/div/div/div[2]/div/div[1]/p').send_keys(Keys.ENTER)\n",
    "        #apagar o nome do contato\n",
    "        elemento.find_element('xpath','//*[@id=\"app\"]/div/span[2]/div/div/div/div/div/div/div/div[1]/div/div/div[2]/div/div[1]/p').send_keys(Keys.BACKSPACE)\n",
    "        sleep(1)\n",
    "    elemento.find_element('xpath','//*[@id=\"app\"]/div/span[2]/div/div/div/div/div/div/div/span/div/div/div/span').click()"
   ]
  },
  {
   "cell_type": "code",
   "execution_count": null,
   "metadata": {},
   "outputs": [],
   "source": []
  },
  {
   "cell_type": "code",
   "execution_count": null,
   "metadata": {},
   "outputs": [],
   "source": []
  }
 ],
 "metadata": {
  "kernelspec": {
   "display_name": "venv",
   "language": "python",
   "name": "python3"
  },
  "language_info": {
   "codemirror_mode": {
    "name": "ipython",
    "version": 3
   },
   "file_extension": ".py",
   "mimetype": "text/x-python",
   "name": "python",
   "nbconvert_exporter": "python",
   "pygments_lexer": "ipython3",
   "version": "3.9.13"
  },
  "orig_nbformat": 4
 },
 "nbformat": 4,
 "nbformat_minor": 2
}
